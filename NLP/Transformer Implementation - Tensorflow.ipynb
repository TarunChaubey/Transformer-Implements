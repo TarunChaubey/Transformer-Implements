{
 "cells": [
  {
   "cell_type": "code",
   "execution_count": 1,
   "id": "7074340b",
   "metadata": {},
   "outputs": [],
   "source": [
    "import tensorflow as tf\n",
    "from tensorflow import keras\n",
    "from tensorflow.keras import layers"
   ]
  },
  {
   "cell_type": "code",
   "execution_count": 2,
   "id": "38e743ee",
   "metadata": {},
   "outputs": [
    {
     "data": {
      "text/plain": [
       "'2.5.0'"
      ]
     },
     "execution_count": 2,
     "metadata": {},
     "output_type": "execute_result"
    }
   ],
   "source": [
    "tf.__version__"
   ]
  },
  {
   "cell_type": "code",
   "execution_count": 8,
   "id": "377bc739",
   "metadata": {},
   "outputs": [
    {
     "name": "stdout",
     "output_type": "stream",
     "text": [
      "Downloading data from https://drive.google.com/uc?id=0Bz8a_Dbh9QhbUDNpeUdjb0wxRms\n",
      "11788288/11784327 [==============================] - 2s 0us/step\n"
     ]
    }
   ],
   "source": [
    "import numpy as np\n",
    "import tensorflow as tf\n",
    "from tensorflow import keras\n",
    "from tensorflow.keras import layers\n",
    "\n",
    "# Load the Quora question pairs dataset\n",
    "quora = keras.utils.get_file(\n",
    "    \"quora_duplicate_questions.tsv\",\n",
    "    \"https://drive.google.com/uc?id=0Bz8a_Dbh9QhbUDNpeUdjb0wxRms\",\n",
    "    cache_dir='./',\n",
    "    cache_subdir=''\n",
    ")"
   ]
  },
  {
   "cell_type": "code",
   "execution_count": 9,
   "id": "f1973996",
   "metadata": {},
   "outputs": [],
   "source": [
    "class MultiheadAttention(layers.Layer):\n",
    "    def __init__(self, embed_dim, num_heads):\n",
    "        super(MultiheadAttention, self).__init__()\n",
    "        self.embed_dim = embed_dim\n",
    "        self.num_heads = num_heads\n",
    "        self.head_dim = embed_dim // num_heads\n",
    "        \n",
    "        # Define the query, key, and value projection layers\n",
    "        self.query_dense = layers.Dense(embed_dim)\n",
    "        self.key_dense = layers.Dense(embed_dim)\n",
    "        self.value_dense = layers.Dense(embed_dim)\n",
    "        \n",
    "        # Define the output projection layer\n",
    "        self.combine_heads = layers.Dense(embed_dim)\n",
    "    \n",
    "    def call(self, inputs):\n",
    "        # Split the inputs into query, key, and value tensors\n",
    "        query, key, value = inputs['query'], inputs['key'], inputs['value']\n",
    "        \n",
    "        # Project the query, key, and value tensors\n",
    "        query = self.query_dense(query)\n",
    "        key = self.key_dense(key)\n",
    "        value = self.value_dense(value)\n",
    "        \n",
    "        # Split the query, key, and value tensors into multiple heads\n",
    "        query = tf.reshape(query, [-1, query.shape[1], self.num_heads, self.head_dim])\n",
    "        query = tf.transpose(query, perm=[0, 2, 1, 3])\n",
    "        key = tf.reshape(key, [-1, key.shape[1], self.num_heads, self.head_dim])\n",
    "        key = tf.transpose(key, perm=[0, 2, 1, 3])\n",
    "        value = tf.reshape(value, [-1, value.shape[1], self.num_heads, self.head_dim])\n",
    "        value = tf.transpose(value, perm=[0, 2, 1, 3])\n",
    "        \n",
    "        # Compute the scaled dot product attention for each head\n",
    "        attention_scores = tf.matmul(query, key, transpose_b=True)\n",
    "        attention_scores /= tf.math.sqrt(tf.cast(self.head_dim, tf.float32))\n",
    "        attention_weights = tf.nn.softmax(attention_scores, axis=-1)\n",
    "        attention_output = tf.matmul(attention_weights, value)\n",
    "        \n",
    "        # Merge the attention output back into a single tensor\n",
    "        attention_output = tf.transpose(attention_output, perm=[0, 2, 1, 3])\n",
    "        attention_output = tf.reshape(attention_output, [-1, attention_output.shape[1], self.embed_dim])\n",
    "        attention_output = self.combine_heads(attention_output)\n",
    "        \n",
    "        return attention_output"
   ]
  },
  {
   "cell_type": "code",
   "execution_count": 11,
   "id": "967c581a",
   "metadata": {},
   "outputs": [],
   "source": [
    "class PositionalEncoding(layers.Layer):\n",
    "    def __init__(self, sequence_length, embed_dim):\n",
    "        super(PositionalEncoding, self).__init__()\n",
    "        self.pos_encoding = self.positional_encoding(sequence_length, embed_dim)\n",
    "    \n",
    "    def get_config(self):\n",
    "        config = super().get_config().copy()\n",
    "        config.update({\n",
    "            'sequence_length': self.sequence_length,\n",
    "            'embed_dim': self.embed_dim,\n",
    "        })\n",
    "        return config\n",
    "\n",
    "    def call(self, inputs):\n",
    "        return inputs + self.pos_encoding[:, :tf.shape(inputs)[1], :]\n",
    "\n",
    "    def positional_encoding(self, sequence_length, embed_dim):\n",
    "        position = np.arange(sequence_length)[:, np.newaxis]\n",
    "        div_term = np.exp(np.arange(0, embed_dim, 2) * -(np.log(10000.0) / embed_dim))\n",
    "        pos_enc = np.zeros((sequence_length, embed_dim))\n",
    "        pos_enc[:, 0::2] = np.sin(position * div_term)\n",
    "        pos_enc[:, 1::2] = np.cos(position * div_term)\n",
    "        pos_enc = pos_enc[np.newaxis, ...]\n",
    "        return tf.cast(pos_enc, dtype=tf.float32)"
   ]
  },
  {
   "cell_type": "code",
   "execution_count": 12,
   "id": "bff2d1d3",
   "metadata": {},
   "outputs": [],
   "source": [
    "class Transformer(keras.Model):\n",
    "    def __init__(self, embed_dim, num_heads, ff_dim, num_blocks, dropout_rate):\n",
    "        super(Transformer, self).__init__()\n",
    "        self.embedding = layers.Embedding(input_vocab_size, embed_dim)\n",
    "        self.positional_encoding = PositionalEncoding(max_length, embed_dim)\n",
    "        self.attention = [MultiheadAttention(embed_dim, num_heads) for _ in range(num_blocks)]\n",
    "        self.ffn = [keras.Sequential([layers.Dense(ff_dim, activation='relu'),\n",
    "                                      layers.Dense(embed_dim)]) for _ in range(num_blocks)]\n",
    "        self.dropout = layers.Dropout(dropout_rate)\n",
    "    \n",
    "    def call(self, inputs):\n",
    "        x = self.embedding(inputs)\n",
    "        x = tf.cast(x, dtype=tf.float32)\n",
    "        x *= tf.math.sqrt(tf.cast(embed_dim, tf.float32))\n",
    "        x = self.positional_encoding(x)\n",
    "        \n",
    "        for i in range(num_blocks):\n",
    "            # Multihead Attention\n",
    "            attention_output = self.attention[i]({\n",
    "                'query': x,\n",
    "                'key': x,\n",
    "                'value': x\n",
    "            })\n",
    "            attention_output = self.dropout(attention_output)\n",
    "            x = x + attention_output\n",
    "            \n",
    "            # Feed-forward Neural Network\n",
    "            ffn_output = self.ffn[i](x)\n",
    "            ffn_output = self.dropout(ffn_output)\n",
    "            x = x + ffn_output\n",
    "            \n",
    "        return x"
   ]
  },
  {
   "cell_type": "code",
   "execution_count": 59,
   "id": "e773c549",
   "metadata": {},
   "outputs": [],
   "source": [
    "# Define the model hyperparameters\n",
    "embed_dim = 512\n",
    "num_heads = 8\n",
    "ff_dim = 2048\n",
    "num_blocks = 6\n",
    "dropout_rate = 0.1\n",
    "\n",
    "# Define the input sequence length and vocabulary size\n",
    "max_length = 100\n",
    "input_vocab_size = 10000\n",
    "\n",
    "# Define the model\n",
    "transformer = Transformer(embed_dim, num_heads, ff_dim, num_blocks, dropout_rate)\n",
    "\n",
    "# Define the inputs and outputs\n",
    "inputs = keras.Input(shape=(max_length,))\n",
    "outputs = transformer(inputs)\n",
    "outputs = layers.GlobalAveragePooling1D()(outputs)\n",
    "outputs = layers.Dense(max_length, activation='sigmoid')(outputs)\n",
    "\n",
    "# Define the model\n",
    "model = keras.Model(inputs=inputs, outputs=outputs)"
   ]
  },
  {
   "cell_type": "code",
   "execution_count": 60,
   "id": "c59f2003",
   "metadata": {},
   "outputs": [
    {
     "name": "stdout",
     "output_type": "stream",
     "text": [
      "Model: \"model_3\"\n",
      "_________________________________________________________________\n",
      "Layer (type)                 Output Shape              Param #   \n",
      "=================================================================\n",
      "input_8 (InputLayer)         [(None, 100)]             0         \n",
      "_________________________________________________________________\n",
      "transformer_3 (Transformer)  (None, 100, 512)          24022016  \n",
      "_________________________________________________________________\n",
      "global_average_pooling1d_3 ( (None, 512)               0         \n",
      "_________________________________________________________________\n",
      "dense_139 (Dense)            (None, 100)               51300     \n",
      "=================================================================\n",
      "Total params: 24,073,316\n",
      "Trainable params: 24,073,316\n",
      "Non-trainable params: 0\n",
      "_________________________________________________________________\n"
     ]
    }
   ],
   "source": [
    "model.summary()"
   ]
  },
  {
   "cell_type": "code",
   "execution_count": 61,
   "id": "df4288f4",
   "metadata": {},
   "outputs": [
    {
     "data": {
      "image/png": "[encoded data removed]",
      "text/plain": [
       "<IPython.core.display.Image object>"
      ]
     },
     "execution_count": 61,
     "metadata": {},
     "output_type": "execute_result"
    }
   ],
   "source": [
    "from tensorflow.keras.utils import plot_model\n",
    "plot_model(model,show_dtype=True,show_layer_names=True,show_shapes=True)"
   ]
  },
  {
   "cell_type": "code",
   "execution_count": 62,
   "id": "d7fc565c",
   "metadata": {},
   "outputs": [],
   "source": [
    "# # Compile and train the model\n",
    "# model.compile(optimizer='adam', loss='binary_crossentropy', metrics=['accuracy'])\n",
    "# model.fit(train_inputs, train_outputs, validation_data=(val_inputs, val_outputs), epochs=10, batch_size=32)"
   ]
  },
  {
   "cell_type": "code",
   "execution_count": 63,
   "id": "b26624ca",
   "metadata": {},
   "outputs": [],
   "source": [
    "import tensorflow as tf\n",
    "from tensorflow.keras.preprocessing.text import Tokenizer\n",
    "from tensorflow.keras.preprocessing.sequence import pad_sequences\n",
    "import pandas as pd\n",
    "\n",
    "# Load the train.csv and test.csv files\n",
    "train_data = pd.read_csv('ag_news_csv/train.csv')\n",
    "test_data = pd.read_csv('ag_news_csv/test.csv')\n",
    "\n",
    "# Combine the question and answer columns from train and test data\n",
    "all_data = pd.concat([train_data['Question'], train_data['Answer'],\n",
    "                      test_data['Question'], test_data['Answer']])"
   ]
  },
  {
   "cell_type": "code",
   "execution_count": 78,
   "id": "d7ef786a",
   "metadata": {},
   "outputs": [],
   "source": [
    "train_data = train_data.sample(5000,replace=True)\n",
    "test_data = test_data.sample(5000,replace=True)\n",
    "\n",
    "all_data = pd.concat([train_data['Question'], train_data['Answer'],\n",
    "                      test_data['Question'], test_data['Answer']])"
   ]
  },
  {
   "cell_type": "code",
   "execution_count": 79,
   "id": "b7a1a499",
   "metadata": {},
   "outputs": [
    {
     "name": "stdout",
     "output_type": "stream",
     "text": [
      "Tokenized and Padded Sequences for Train Data:\n",
      "[[  0   0   0 ... 458   4 459]\n",
      " [  0   0   0 ... 458   4 459]\n",
      " [  0   0   0 ... 428   7  36]\n",
      " ...\n",
      " [  0   0   0 ... 356 357  18]\n",
      " [  0   0   0 ...  90  91  18]\n",
      " [  0   0   0 ... 458   4 459]]\n",
      "[[  0   0   0 ... 473 474 475]\n",
      " [  0   0   0 ... 473 474 475]\n",
      " [  0   0   0 ... 440 441 107]\n",
      " ...\n",
      " [  0   0   0 ...  31   6  92]\n",
      " [  0   0   0 ... 339   8 340]\n",
      " [  0   0   0 ... 473 474 475]]\n",
      "Tokenized and Padded Sequences for Test Data:\n",
      "[[  0   0   0 ... 344 100 101]\n",
      " [  0   0   0 ...   5  64  65]\n",
      " [  0   0   0 ...  69  27  70]\n",
      " ...\n",
      " [  0   0   0 ...   3   6 114]\n",
      " [  0   0   0 ...   3   6 114]\n",
      " [  0   0   0 ... 134   8 135]]\n",
      "[[  0   0   0 ... 109  28  93]\n",
      " [  0   0   0 ...   3   6 239]\n",
      " [  0   0   0 ...   1  66 258]\n",
      " ...\n",
      " [  0   0   0 ...  32  28 389]\n",
      " [  0   0   0 ...  32  28 389]\n",
      " [  0   0   0 ...  43  44 150]]\n"
     ]
    }
   ],
   "source": [
    "# Initialize the tokenizer\n",
    "tokenizer = Tokenizer()\n",
    "\n",
    "# Fit the tokenizer on the combined data\n",
    "tokenizer.fit_on_texts(all_data)\n",
    "\n",
    "# Convert text to sequences for train data\n",
    "train_question_sequences = tokenizer.texts_to_sequences(train_data['Question'])\n",
    "train_answer_sequences = tokenizer.texts_to_sequences(train_data['Answer'])\n",
    "\n",
    "# Convert text to sequences for test data\n",
    "test_question_sequences = tokenizer.texts_to_sequences(test_data['Question'])\n",
    "test_answer_sequences = tokenizer.texts_to_sequences(test_data['Answer'])\n",
    "\n",
    "# Pad sequences to a fixed length\n",
    "max_length = 100  # adjust according to your data\n",
    "train_question_sequences = pad_sequences(train_question_sequences, maxlen=max_length)\n",
    "train_answer_sequences = pad_sequences(train_answer_sequences, maxlen=max_length)\n",
    "test_question_sequences = pad_sequences(test_question_sequences, maxlen=max_length)\n",
    "test_answer_sequences = pad_sequences(test_answer_sequences, maxlen=max_length)\n",
    "\n",
    "# Print the tokenized and padded sequences\n",
    "print(\"Tokenized and Padded Sequences for Train Data:\")\n",
    "print(train_question_sequences)\n",
    "print(train_answer_sequences)\n",
    "print(\"Tokenized and Padded Sequences for Test Data:\")\n",
    "print(test_question_sequences)\n",
    "print(test_answer_sequences)"
   ]
  },
  {
   "cell_type": "code",
   "execution_count": 82,
   "id": "cb50fc82",
   "metadata": {},
   "outputs": [
    {
     "name": "stdout",
     "output_type": "stream",
     "text": [
      "Epoch 1/10\n",
      " 31/157 [====>.........................] - ETA: 6:01 - loss: nan - accuracy: 0.0000e+00"
     ]
    },
    {
     "ename": "KeyboardInterrupt",
     "evalue": "",
     "output_type": "error",
     "traceback": [
      "\u001b[1;31m---------------------------------------------------------------------------\u001b[0m",
      "\u001b[1;31mKeyboardInterrupt\u001b[0m                         Traceback (most recent call last)",
      "\u001b[1;32m~\\AppData\\Local\\Temp\\ipykernel_2300\\1229752547.py\u001b[0m in \u001b[0;36m<module>\u001b[1;34m\u001b[0m\n\u001b[0;32m      1\u001b[0m \u001b[1;31m# Compile and train the model\u001b[0m\u001b[1;33m\u001b[0m\u001b[1;33m\u001b[0m\u001b[1;33m\u001b[0m\u001b[0m\n\u001b[0;32m      2\u001b[0m \u001b[0mmodel\u001b[0m\u001b[1;33m.\u001b[0m\u001b[0mcompile\u001b[0m\u001b[1;33m(\u001b[0m\u001b[0moptimizer\u001b[0m\u001b[1;33m=\u001b[0m\u001b[1;34m'adam'\u001b[0m\u001b[1;33m,\u001b[0m \u001b[0mloss\u001b[0m\u001b[1;33m=\u001b[0m\u001b[1;34m'mean_squared_error'\u001b[0m\u001b[1;33m,\u001b[0m \u001b[0mmetrics\u001b[0m\u001b[1;33m=\u001b[0m\u001b[1;33m[\u001b[0m\u001b[1;34m'accuracy'\u001b[0m\u001b[1;33m]\u001b[0m\u001b[1;33m)\u001b[0m\u001b[1;33m\u001b[0m\u001b[1;33m\u001b[0m\u001b[0m\n\u001b[1;32m----> 3\u001b[1;33m \u001b[0mmodel\u001b[0m\u001b[1;33m.\u001b[0m\u001b[0mfit\u001b[0m\u001b[1;33m(\u001b[0m\u001b[0mtrain_question_sequences\u001b[0m\u001b[1;33m,\u001b[0m \u001b[0mtrain_answer_sequences\u001b[0m\u001b[1;33m,\u001b[0m \u001b[0mvalidation_data\u001b[0m\u001b[1;33m=\u001b[0m\u001b[1;33m(\u001b[0m\u001b[0mtest_question_sequences\u001b[0m\u001b[1;33m,\u001b[0m \u001b[0mtest_answer_sequences\u001b[0m\u001b[1;33m)\u001b[0m\u001b[1;33m,\u001b[0m \u001b[0mepochs\u001b[0m\u001b[1;33m=\u001b[0m\u001b[1;36m10\u001b[0m\u001b[1;33m,\u001b[0m \u001b[0mbatch_size\u001b[0m\u001b[1;33m=\u001b[0m\u001b[1;36m32\u001b[0m\u001b[1;33m)\u001b[0m\u001b[1;33m\u001b[0m\u001b[1;33m\u001b[0m\u001b[0m\n\u001b[0m",
      "\u001b[1;32m~\\anaconda3\\envs\\torch2tf2\\lib\\site-packages\\tensorflow\\python\\keras\\engine\\training.py\u001b[0m in \u001b[0;36mfit\u001b[1;34m(self, x, y, batch_size, epochs, verbose, callbacks, validation_split, validation_data, shuffle, class_weight, sample_weight, initial_epoch, steps_per_epoch, validation_steps, validation_batch_size, validation_freq, max_queue_size, workers, use_multiprocessing)\u001b[0m\n\u001b[0;32m   1181\u001b[0m                 _r=1):\n\u001b[0;32m   1182\u001b[0m               \u001b[0mcallbacks\u001b[0m\u001b[1;33m.\u001b[0m\u001b[0mon_train_batch_begin\u001b[0m\u001b[1;33m(\u001b[0m\u001b[0mstep\u001b[0m\u001b[1;33m)\u001b[0m\u001b[1;33m\u001b[0m\u001b[1;33m\u001b[0m\u001b[0m\n\u001b[1;32m-> 1183\u001b[1;33m               \u001b[0mtmp_logs\u001b[0m \u001b[1;33m=\u001b[0m \u001b[0mself\u001b[0m\u001b[1;33m.\u001b[0m\u001b[0mtrain_function\u001b[0m\u001b[1;33m(\u001b[0m\u001b[0miterator\u001b[0m\u001b[1;33m)\u001b[0m\u001b[1;33m\u001b[0m\u001b[1;33m\u001b[0m\u001b[0m\n\u001b[0m\u001b[0;32m   1184\u001b[0m               \u001b[1;32mif\u001b[0m \u001b[0mdata_handler\u001b[0m\u001b[1;33m.\u001b[0m\u001b[0mshould_sync\u001b[0m\u001b[1;33m:\u001b[0m\u001b[1;33m\u001b[0m\u001b[1;33m\u001b[0m\u001b[0m\n\u001b[0;32m   1185\u001b[0m                 \u001b[0mcontext\u001b[0m\u001b[1;33m.\u001b[0m\u001b[0masync_wait\u001b[0m\u001b[1;33m(\u001b[0m\u001b[1;33m)\u001b[0m\u001b[1;33m\u001b[0m\u001b[1;33m\u001b[0m\u001b[0m\n",
      "\u001b[1;32m~\\anaconda3\\envs\\torch2tf2\\lib\\site-packages\\tensorflow\\python\\eager\\def_function.py\u001b[0m in \u001b[0;36m__call__\u001b[1;34m(self, *args, **kwds)\u001b[0m\n\u001b[0;32m    887\u001b[0m \u001b[1;33m\u001b[0m\u001b[0m\n\u001b[0;32m    888\u001b[0m       \u001b[1;32mwith\u001b[0m \u001b[0mOptionalXlaContext\u001b[0m\u001b[1;33m(\u001b[0m\u001b[0mself\u001b[0m\u001b[1;33m.\u001b[0m\u001b[0m_jit_compile\u001b[0m\u001b[1;33m)\u001b[0m\u001b[1;33m:\u001b[0m\u001b[1;33m\u001b[0m\u001b[1;33m\u001b[0m\u001b[0m\n\u001b[1;32m--> 889\u001b[1;33m         \u001b[0mresult\u001b[0m \u001b[1;33m=\u001b[0m \u001b[0mself\u001b[0m\u001b[1;33m.\u001b[0m\u001b[0m_call\u001b[0m\u001b[1;33m(\u001b[0m\u001b[1;33m*\u001b[0m\u001b[0margs\u001b[0m\u001b[1;33m,\u001b[0m \u001b[1;33m**\u001b[0m\u001b[0mkwds\u001b[0m\u001b[1;33m)\u001b[0m\u001b[1;33m\u001b[0m\u001b[1;33m\u001b[0m\u001b[0m\n\u001b[0m\u001b[0;32m    890\u001b[0m \u001b[1;33m\u001b[0m\u001b[0m\n\u001b[0;32m    891\u001b[0m       \u001b[0mnew_tracing_count\u001b[0m \u001b[1;33m=\u001b[0m \u001b[0mself\u001b[0m\u001b[1;33m.\u001b[0m\u001b[0mexperimental_get_tracing_count\u001b[0m\u001b[1;33m(\u001b[0m\u001b[1;33m)\u001b[0m\u001b[1;33m\u001b[0m\u001b[1;33m\u001b[0m\u001b[0m\n",
      "\u001b[1;32m~\\anaconda3\\envs\\torch2tf2\\lib\\site-packages\\tensorflow\\python\\eager\\def_function.py\u001b[0m in \u001b[0;36m_call\u001b[1;34m(self, *args, **kwds)\u001b[0m\n\u001b[0;32m    915\u001b[0m       \u001b[1;31m# In this case we have created variables on the first call, so we run the\u001b[0m\u001b[1;33m\u001b[0m\u001b[1;33m\u001b[0m\u001b[1;33m\u001b[0m\u001b[0m\n\u001b[0;32m    916\u001b[0m       \u001b[1;31m# defunned version which is guaranteed to never create variables.\u001b[0m\u001b[1;33m\u001b[0m\u001b[1;33m\u001b[0m\u001b[1;33m\u001b[0m\u001b[0m\n\u001b[1;32m--> 917\u001b[1;33m       \u001b[1;32mreturn\u001b[0m \u001b[0mself\u001b[0m\u001b[1;33m.\u001b[0m\u001b[0m_stateless_fn\u001b[0m\u001b[1;33m(\u001b[0m\u001b[1;33m*\u001b[0m\u001b[0margs\u001b[0m\u001b[1;33m,\u001b[0m \u001b[1;33m**\u001b[0m\u001b[0mkwds\u001b[0m\u001b[1;33m)\u001b[0m  \u001b[1;31m# pylint: disable=not-callable\u001b[0m\u001b[1;33m\u001b[0m\u001b[1;33m\u001b[0m\u001b[0m\n\u001b[0m\u001b[0;32m    918\u001b[0m     \u001b[1;32melif\u001b[0m \u001b[0mself\u001b[0m\u001b[1;33m.\u001b[0m\u001b[0m_stateful_fn\u001b[0m \u001b[1;32mis\u001b[0m \u001b[1;32mnot\u001b[0m \u001b[1;32mNone\u001b[0m\u001b[1;33m:\u001b[0m\u001b[1;33m\u001b[0m\u001b[1;33m\u001b[0m\u001b[0m\n\u001b[0;32m    919\u001b[0m       \u001b[1;31m# Release the lock early so that multiple threads can perform the call\u001b[0m\u001b[1;33m\u001b[0m\u001b[1;33m\u001b[0m\u001b[1;33m\u001b[0m\u001b[0m\n",
      "\u001b[1;32m~\\anaconda3\\envs\\torch2tf2\\lib\\site-packages\\tensorflow\\python\\eager\\function.py\u001b[0m in \u001b[0;36m__call__\u001b[1;34m(self, *args, **kwargs)\u001b[0m\n\u001b[0;32m   3022\u001b[0m        filtered_flat_args) = self._maybe_define_function(args, kwargs)\n\u001b[0;32m   3023\u001b[0m     return graph_function._call_flat(\n\u001b[1;32m-> 3024\u001b[1;33m         filtered_flat_args, captured_inputs=graph_function.captured_inputs)  # pylint: disable=protected-access\n\u001b[0m\u001b[0;32m   3025\u001b[0m \u001b[1;33m\u001b[0m\u001b[0m\n\u001b[0;32m   3026\u001b[0m   \u001b[1;33m@\u001b[0m\u001b[0mproperty\u001b[0m\u001b[1;33m\u001b[0m\u001b[1;33m\u001b[0m\u001b[0m\n",
      "\u001b[1;32m~\\anaconda3\\envs\\torch2tf2\\lib\\site-packages\\tensorflow\\python\\eager\\function.py\u001b[0m in \u001b[0;36m_call_flat\u001b[1;34m(self, args, captured_inputs, cancellation_manager)\u001b[0m\n\u001b[0;32m   1959\u001b[0m       \u001b[1;31m# No tape is watching; skip to running the function.\u001b[0m\u001b[1;33m\u001b[0m\u001b[1;33m\u001b[0m\u001b[1;33m\u001b[0m\u001b[0m\n\u001b[0;32m   1960\u001b[0m       return self._build_call_outputs(self._inference_function.call(\n\u001b[1;32m-> 1961\u001b[1;33m           ctx, args, cancellation_manager=cancellation_manager))\n\u001b[0m\u001b[0;32m   1962\u001b[0m     forward_backward = self._select_forward_and_backward_functions(\n\u001b[0;32m   1963\u001b[0m         \u001b[0margs\u001b[0m\u001b[1;33m,\u001b[0m\u001b[1;33m\u001b[0m\u001b[1;33m\u001b[0m\u001b[0m\n",
      "\u001b[1;32m~\\anaconda3\\envs\\torch2tf2\\lib\\site-packages\\tensorflow\\python\\eager\\function.py\u001b[0m in \u001b[0;36mcall\u001b[1;34m(self, ctx, args, cancellation_manager)\u001b[0m\n\u001b[0;32m    594\u001b[0m               \u001b[0minputs\u001b[0m\u001b[1;33m=\u001b[0m\u001b[0margs\u001b[0m\u001b[1;33m,\u001b[0m\u001b[1;33m\u001b[0m\u001b[1;33m\u001b[0m\u001b[0m\n\u001b[0;32m    595\u001b[0m               \u001b[0mattrs\u001b[0m\u001b[1;33m=\u001b[0m\u001b[0mattrs\u001b[0m\u001b[1;33m,\u001b[0m\u001b[1;33m\u001b[0m\u001b[1;33m\u001b[0m\u001b[0m\n\u001b[1;32m--> 596\u001b[1;33m               ctx=ctx)\n\u001b[0m\u001b[0;32m    597\u001b[0m         \u001b[1;32melse\u001b[0m\u001b[1;33m:\u001b[0m\u001b[1;33m\u001b[0m\u001b[1;33m\u001b[0m\u001b[0m\n\u001b[0;32m    598\u001b[0m           outputs = execute.execute_with_cancellation(\n",
      "\u001b[1;32m~\\anaconda3\\envs\\torch2tf2\\lib\\site-packages\\tensorflow\\python\\eager\\execute.py\u001b[0m in \u001b[0;36mquick_execute\u001b[1;34m(op_name, num_outputs, inputs, attrs, ctx, name)\u001b[0m\n\u001b[0;32m     58\u001b[0m     \u001b[0mctx\u001b[0m\u001b[1;33m.\u001b[0m\u001b[0mensure_initialized\u001b[0m\u001b[1;33m(\u001b[0m\u001b[1;33m)\u001b[0m\u001b[1;33m\u001b[0m\u001b[1;33m\u001b[0m\u001b[0m\n\u001b[0;32m     59\u001b[0m     tensors = pywrap_tfe.TFE_Py_Execute(ctx._handle, device_name, op_name,\n\u001b[1;32m---> 60\u001b[1;33m                                         inputs, attrs, num_outputs)\n\u001b[0m\u001b[0;32m     61\u001b[0m   \u001b[1;32mexcept\u001b[0m \u001b[0mcore\u001b[0m\u001b[1;33m.\u001b[0m\u001b[0m_NotOkStatusException\u001b[0m \u001b[1;32mas\u001b[0m \u001b[0me\u001b[0m\u001b[1;33m:\u001b[0m\u001b[1;33m\u001b[0m\u001b[1;33m\u001b[0m\u001b[0m\n\u001b[0;32m     62\u001b[0m     \u001b[1;32mif\u001b[0m \u001b[0mname\u001b[0m \u001b[1;32mis\u001b[0m \u001b[1;32mnot\u001b[0m \u001b[1;32mNone\u001b[0m\u001b[1;33m:\u001b[0m\u001b[1;33m\u001b[0m\u001b[1;33m\u001b[0m\u001b[0m\n",
      "\u001b[1;31mKeyboardInterrupt\u001b[0m: "
     ]
    }
   ],
   "source": [
    "# Compile and train the model\n",
    "model.compile(optimizer='adam', loss='mean_squared_error', metrics=['accuracy'])\n",
    "model.fit(train_question_sequences, train_answer_sequences, validation_data=(test_question_sequences, test_answer_sequences), epochs=10, batch_size=32)"
   ]
  },
  {
   "cell_type": "code",
   "execution_count": 70,
   "id": "4202e3c8",
   "metadata": {},
   "outputs": [],
   "source": [
    "text = tokenizer.texts_to_sequences(\"How are you doing today\")\n",
    "\n",
    "# Pad sequences to a fixed length\n",
    "max_length = 100  # adjust according to your data\n",
    "text = pad_sequences(text, maxlen=max_length)"
   ]
  },
  {
   "cell_type": "code",
   "execution_count": 76,
   "id": "94baafa3",
   "metadata": {},
   "outputs": [
    {
     "data": {
      "text/plain": [
       "(23, 100)"
      ]
     },
     "execution_count": 76,
     "metadata": {},
     "output_type": "execute_result"
    }
   ],
   "source": [
    "model.predict(text).shape"
   ]
  },
  {
   "cell_type": "code",
   "execution_count": null,
   "id": "5aba2bf8",
   "metadata": {},
   "outputs": [],
   "source": []
  }
 ],
 "metadata": {
  "kernelspec": {
   "display_name": "Python 3 (ipykernel)",
   "language": "python",
   "name": "python3"
  },
  "language_info": {
   "codemirror_mode": {
    "name": "ipython",
    "version": 3
   },
   "file_extension": ".py",
   "mimetype": "text/x-python",
   "name": "python",
   "nbconvert_exporter": "python",
   "pygments_lexer": "ipython3",
   "version": "3.7.0"
  }
 },
 "nbformat": 4,
 "nbformat_minor": 5
}
