{
 "cells": [
  {
   "cell_type": "markdown",
   "id": "8b03a90b",
   "metadata": {},
   "source": [
    "https://towardsdatascience.com/illustrated-self-attention-2d627e33b20a"
   ]
  },
  {
   "cell_type": "markdown",
   "id": "621db464",
   "metadata": {},
   "source": [
    "https://sebastianraschka.com/blog/2023/self-attention-from-scratch.html"
   ]
  },
  {
   "cell_type": "code",
   "execution_count": 1,
   "id": "a95999d8",
   "metadata": {},
   "outputs": [],
   "source": [
    "import pandas as pd\n",
    "import numpy as np\n",
    "import matplotlib.pyplot as plt\n",
    "import seaborn as sns\n",
    "%matplotlib inline"
   ]
  },
  {
   "cell_type": "code",
   "execution_count": 2,
   "id": "672d9d86",
   "metadata": {},
   "outputs": [
    {
     "data": {
      "text/plain": [
       "array([[0.24595806, 0.80297821],\n",
       "       [0.91356724, 0.3644435 ],\n",
       "       [0.85240105, 0.06672613],\n",
       "       [0.12761768, 0.4752835 ],\n",
       "       [0.84502346, 0.26101756]])"
      ]
     },
     "execution_count": 2,
     "metadata": {},
     "output_type": "execute_result"
    }
   ],
   "source": [
    "np.random.rand(10).reshape(5,2)"
   ]
  },
  {
   "cell_type": "code",
   "execution_count": 39,
   "id": "34dc3feb",
   "metadata": {},
   "outputs": [
    {
     "name": "stdout",
     "output_type": "stream",
     "text": [
      "how are you doing\n"
     ]
    }
   ],
   "source": [
    "text = \"how are you doing\"\n",
    "print(text)"
   ]
  },
  {
   "cell_type": "code",
   "execution_count": 40,
   "id": "e43d033d",
   "metadata": {},
   "outputs": [
    {
     "data": {
      "text/plain": [
       "['how', 'are', 'you', 'doing']"
      ]
     },
     "execution_count": 40,
     "metadata": {},
     "output_type": "execute_result"
    }
   ],
   "source": [
    "# Define the tokens\n",
    "tokens = text.split()\n",
    "tokens"
   ]
  },
  {
   "cell_type": "code",
   "execution_count": 51,
   "id": "e3cb4958",
   "metadata": {},
   "outputs": [
    {
     "data": {
      "text/plain": [
       "array([[ 0.17893869, -0.8460428 ,  0.45129722, -0.41137148],\n",
       "       [ 1.14494046,  0.53410844, -0.23760124, -1.08492737],\n",
       "       [-0.12321856,  0.87362529, -0.40952103, -0.42694098],\n",
       "       [-0.54553616,  0.60786712, -0.84776332,  1.20422583]])"
      ]
     },
     "execution_count": 51,
     "metadata": {},
     "output_type": "execute_result"
    }
   ],
   "source": [
    "# Define the query vector\n",
    "query = np.random.randn(len(tokens),len(tokens))\n",
    "query"
   ]
  },
  {
   "cell_type": "code",
   "execution_count": 52,
   "id": "6bd98852",
   "metadata": {},
   "outputs": [
    {
     "name": "stdout",
     "output_type": "stream",
     "text": [
      "(4, 4)\n"
     ]
    },
    {
     "data": {
      "text/plain": [
       "array([[ 2.43169513, -0.30909618,  1.25203021, -0.920183  ],\n",
       "       [-1.84807596,  1.18086692, -0.53522638,  1.48934727],\n",
       "       [-0.72982072, -0.44740646, -1.32930932, -0.39467154],\n",
       "       [ 0.10700546,  0.45875577,  2.53498869,  1.12647362]])"
      ]
     },
     "execution_count": 52,
     "metadata": {},
     "output_type": "execute_result"
    }
   ],
   "source": [
    "# Define the matrix of keys\n",
    "keys = np.random.randn(len(tokens), len(tokens))\n",
    "print(keys.shape)\n",
    "keys"
   ]
  },
  {
   "cell_type": "code",
   "execution_count": 53,
   "id": "d4e70e1c",
   "metadata": {},
   "outputs": [
    {
     "name": "stdout",
     "output_type": "stream",
     "text": [
      "(4, 4)\n"
     ]
    },
    {
     "data": {
      "text/plain": [
       "array([[ 0.57437671,  0.90382719,  0.36601466, -1.01685409],\n",
       "       [-0.76705726, -1.04074081, -0.56039836, -0.28129068],\n",
       "       [-0.80001236,  0.61584185,  0.45932101, -0.65200065],\n",
       "       [ 0.93936566, -0.5717334 , -0.2347111 ,  0.18640325]])"
      ]
     },
     "execution_count": 53,
     "metadata": {},
     "output_type": "execute_result"
    }
   ],
   "source": [
    "# Define the matrix of values\n",
    "values = np.random.randn(len(tokens), len(tokens))\n",
    "print(values.shape)\n",
    "values"
   ]
  },
  {
   "cell_type": "code",
   "execution_count": 54,
   "id": "3b176e07",
   "metadata": {},
   "outputs": [
    {
     "data": {
      "text/plain": [
       "array([[ 1.64020774, -2.18397742, -0.18962513,  0.31165462],\n",
       "       [ 3.31990305, -2.97388912, -0.33052934, -1.45691831],\n",
       "       [-0.68953308,  0.84267554,  0.41194343, -1.13147334],\n",
       "       [-3.68400046,  3.9732582 ,  0.77784592, -0.57205458]])"
      ]
     },
     "execution_count": 54,
     "metadata": {},
     "output_type": "execute_result"
    }
   ],
   "source": [
    "# Calculate the attention scores\n",
    "scores = np.dot(query, keys.T)\n",
    "\n",
    "scores"
   ]
  },
  {
   "cell_type": "code",
   "execution_count": 55,
   "id": "8516669d",
   "metadata": {},
   "outputs": [
    {
     "data": {
      "text/plain": [
       "array([[5.33206782e-02, 1.16432213e-03, 8.55478988e-03, 1.41225258e-02],\n",
       "       [2.86007927e-01, 5.28468200e-04, 7.43045528e-03, 2.40896734e-03],\n",
       "       [5.18922000e-03, 2.40177228e-02, 1.56123131e-02, 3.33556851e-03],\n",
       "       [2.59789398e-04, 5.49701096e-01, 2.25100617e-02, 5.83609490e-03]])"
      ]
     },
     "execution_count": 55,
     "metadata": {},
     "output_type": "execute_result"
    }
   ],
   "source": [
    "# Apply softmax to the scores to get the attention weights\n",
    "attention_weights = np.exp(scores) / np.sum(np.exp(scores))\n",
    "attention_weights"
   ]
  },
  {
   "cell_type": "code",
   "execution_count": 56,
   "id": "1c38d11f",
   "metadata": {},
   "outputs": [
    {
     "data": {
      "text/plain": [
       "array([[ 0.03615533,  0.044175  ,  0.01947835, -0.05749211],\n",
       "       [ 0.16018937,  0.26115044,  0.10723449, -0.29537261],\n",
       "       [-0.02479913, -0.01259841, -0.00517199, -0.02159012],\n",
       "       [-0.4340291 , -0.56133561, -0.29898696, -0.16847867]])"
      ]
     },
     "execution_count": 56,
     "metadata": {},
     "output_type": "execute_result"
    }
   ],
   "source": [
    "# Calculate the attention value\n",
    "attention_value = np.dot(attention_weights, values)\n",
    "attention_value"
   ]
  },
  {
   "cell_type": "code",
   "execution_count": 57,
   "id": "301ceff6",
   "metadata": {},
   "outputs": [
    {
     "name": "stdout",
     "output_type": "stream",
     "text": [
      "Attention weights: [[5.33206782e-02 1.16432213e-03 8.55478988e-03 1.41225258e-02]\n",
      " [2.86007927e-01 5.28468200e-04 7.43045528e-03 2.40896734e-03]\n",
      " [5.18922000e-03 2.40177228e-02 1.56123131e-02 3.33556851e-03]\n",
      " [2.59789398e-04 5.49701096e-01 2.25100617e-02 5.83609490e-03]]\n",
      "Attention value: [[ 0.03615533  0.044175    0.01947835 -0.05749211]\n",
      " [ 0.16018937  0.26115044  0.10723449 -0.29537261]\n",
      " [-0.02479913 -0.01259841 -0.00517199 -0.02159012]\n",
      " [-0.4340291  -0.56133561 -0.29898696 -0.16847867]]\n"
     ]
    }
   ],
   "source": [
    "# Print the attention weights and attention value\n",
    "print(\"Attention weights:\", attention_weights)\n",
    "print(\"Attention value:\", attention_value)"
   ]
  },
  {
   "cell_type": "code",
   "execution_count": 60,
   "id": "0115f8bc",
   "metadata": {},
   "outputs": [],
   "source": [
    "# %%writefile -a self_attention.py\n",
    "\n",
    "def self_attention(text):\n",
    "    import numpy as np\n",
    "\n",
    "    # Define the tokens\n",
    "    #tokens = ['how', 'are', 'you', 'doing', 'today']\n",
    "    tokens = text.split()\n",
    "\n",
    "    # Define the query vector\n",
    "    query = np.random.randn(len(tokens),len(tokens))\n",
    "\n",
    "    # Define the matrix of keys\n",
    "    keys = np.random.randn(len(tokens), len(tokens))\n",
    "\n",
    "    # Define the matrix of values\n",
    "    values = np.random.randn(len(tokens), len(tokens))\n",
    "\n",
    "    # Calculate the attention scores\n",
    "    scores = np.dot(query, keys.T)\n",
    "\n",
    "    # Apply softmax to the scores to get the attention weights\n",
    "    attention_weights = np.exp(scores) / np.sum(np.exp(scores))\n",
    "\n",
    "    # Calculate the attention value\n",
    "    attention_value = np.dot(attention_weights, values)\n",
    "\n",
    "    # Print the attention weights and attention value\n",
    "    return {\"Attention weights\":attention_weights,\"Attention value \": attention_value}\n"
   ]
  },
  {
   "cell_type": "code",
   "execution_count": 61,
   "id": "6f530050",
   "metadata": {},
   "outputs": [
    {
     "data": {
      "text/plain": [
       "{'Attention weights': array([[0.03466487, 0.16967173, 0.02008044],\n",
       "        [0.0387055 , 0.07074764, 0.03003003],\n",
       "        [0.12138279, 0.0065977 , 0.5081193 ]]),\n",
       " 'Attention value ': array([[-0.07045921,  0.30256486,  0.02967586],\n",
       "        [-0.04790429,  0.19714705,  0.02780509],\n",
       "        [-0.43380583,  0.22494098, -0.06037294]])}"
      ]
     },
     "execution_count": 61,
     "metadata": {},
     "output_type": "execute_result"
    }
   ],
   "source": [
    "self_attention(\"How are you\")"
   ]
  },
  {
   "cell_type": "code",
   "execution_count": null,
   "id": "49e26886",
   "metadata": {},
   "outputs": [],
   "source": []
  }
 ],
 "metadata": {
  "kernelspec": {
   "display_name": "Python 3 (ipykernel)",
   "language": "python",
   "name": "python3"
  },
  "language_info": {
   "codemirror_mode": {
    "name": "ipython",
    "version": 3
   },
   "file_extension": ".py",
   "mimetype": "text/x-python",
   "name": "python",
   "nbconvert_exporter": "python",
   "pygments_lexer": "ipython3",
   "version": "3.7.0"
  }
 },
 "nbformat": 4,
 "nbformat_minor": 5
}
