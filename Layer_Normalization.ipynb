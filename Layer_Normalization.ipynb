{
 "cells": [
  {
   "cell_type": "code",
   "execution_count": 1,
   "id": "fd74bb46",
   "metadata": {},
   "outputs": [],
   "source": [
    "import torch\n",
    "from torch import nn"
   ]
  },
  {
   "cell_type": "code",
   "execution_count": 2,
   "id": "00cde5c9",
   "metadata": {},
   "outputs": [
    {
     "data": {
      "text/plain": [
       "torch.Size([2, 1, 3])"
      ]
     },
     "execution_count": 2,
     "metadata": {},
     "output_type": "execute_result"
    }
   ],
   "source": [
    "inputs = torch.Tensor([[[0.2, 0.1, 0.3], [0.5, 0.1, 0.1]]])\n",
    "B, S, E = inputs.size()\n",
    "inputs = inputs.reshape(S, B, E)\n",
    "inputs.size()"
   ]
  },
  {
   "cell_type": "code",
   "execution_count": 3,
   "id": "0323fa96",
   "metadata": {},
   "outputs": [],
   "source": [
    "parameter_shape = inputs.size()[-2:]\n",
    "gamma = nn.Parameter(torch.ones(parameter_shape))\n",
    "beta =  nn.Parameter(torch.zeros(parameter_shape))"
   ]
  },
  {
   "cell_type": "code",
   "execution_count": 4,
   "id": "550a3bf5",
   "metadata": {},
   "outputs": [
    {
     "data": {
      "text/plain": [
       "(torch.Size([1, 3]), torch.Size([1, 3]))"
      ]
     },
     "execution_count": 4,
     "metadata": {},
     "output_type": "execute_result"
    }
   ],
   "source": [
    "gamma.size(), beta.size()"
   ]
  },
  {
   "cell_type": "code",
   "execution_count": 5,
   "id": "ac8733ec",
   "metadata": {},
   "outputs": [
    {
     "data": {
      "text/plain": [
       "[-1, -2]"
      ]
     },
     "execution_count": 5,
     "metadata": {},
     "output_type": "execute_result"
    }
   ],
   "source": [
    "dims = [-(i + 1) for i in range(len(parameter_shape))]\n",
    "dims"
   ]
  },
  {
   "cell_type": "code",
   "execution_count": 6,
   "id": "95770c23",
   "metadata": {},
   "outputs": [
    {
     "data": {
      "text/plain": [
       "torch.Size([2, 1, 1])"
      ]
     },
     "execution_count": 6,
     "metadata": {},
     "output_type": "execute_result"
    }
   ],
   "source": [
    "mean = inputs.mean(dim=dims, keepdim=True)\n",
    "mean.size()"
   ]
  },
  {
   "cell_type": "code",
   "execution_count": 7,
   "id": "90b449e5",
   "metadata": {},
   "outputs": [
    {
     "data": {
      "text/plain": [
       "tensor([[[0.2000]],\n",
       "\n",
       "        [[0.2333]]])"
      ]
     },
     "execution_count": 7,
     "metadata": {},
     "output_type": "execute_result"
    }
   ],
   "source": [
    "mean"
   ]
  },
  {
   "cell_type": "code",
   "execution_count": 8,
   "id": "f632972d",
   "metadata": {},
   "outputs": [
    {
     "data": {
      "text/plain": [
       "tensor([[[0.0817]],\n",
       "\n",
       "        [[0.1886]]])"
      ]
     },
     "execution_count": 8,
     "metadata": {},
     "output_type": "execute_result"
    }
   ],
   "source": [
    "var = ((inputs - mean) ** 2).mean(dim=dims, keepdim=True)\n",
    "epsilon = 1e-5\n",
    "std = (var + epsilon).sqrt()\n",
    "std"
   ]
  },
  {
   "cell_type": "code",
   "execution_count": 9,
   "id": "07f671c0",
   "metadata": {},
   "outputs": [
    {
     "data": {
      "text/plain": [
       "tensor([[[ 0.0000, -1.2238,  1.2238]],\n",
       "\n",
       "        [[ 1.4140, -0.7070, -0.7070]]])"
      ]
     },
     "execution_count": 9,
     "metadata": {},
     "output_type": "execute_result"
    }
   ],
   "source": [
    "y = (inputs - mean) / std\n",
    "y"
   ]
  },
  {
   "cell_type": "code",
   "execution_count": 10,
   "id": "f01151ff",
   "metadata": {},
   "outputs": [],
   "source": [
    "out = gamma * y + beta"
   ]
  },
  {
   "cell_type": "code",
   "execution_count": 11,
   "id": "bf49ec54",
   "metadata": {},
   "outputs": [
    {
     "data": {
      "text/plain": [
       "tensor([[[ 0.0000, -1.2238,  1.2238]],\n",
       "\n",
       "        [[ 1.4140, -0.7070, -0.7070]]], grad_fn=<AddBackward0>)"
      ]
     },
     "execution_count": 11,
     "metadata": {},
     "output_type": "execute_result"
    }
   ],
   "source": [
    "out  "
   ]
  },
  {
   "cell_type": "markdown",
   "id": "ed77f8f6",
   "metadata": {},
   "source": [
    "### Class"
   ]
  },
  {
   "cell_type": "code",
   "execution_count": 12,
   "id": "dce74fc4",
   "metadata": {},
   "outputs": [],
   "source": [
    "import torch\n",
    "from torch import nn\n",
    "\n",
    "class LayerNormalization():\n",
    "    def __init__(self, parameters_shape, eps=1e-5):\n",
    "        self.parameters_shape=parameters_shape\n",
    "        self.eps=eps\n",
    "        self.gamma = nn.Parameter(torch.ones(parameters_shape))\n",
    "        self.beta =  nn.Parameter(torch.zeros(parameters_shape))\n",
    "\n",
    "    def forward(self, input):\n",
    "        dims = [-(i + 1) for i in range(len(self.parameters_shape))]\n",
    "        mean = inputs.mean(dim=dims, keepdim=True)\n",
    "        print(f\"Mean \\n ({mean.size()}): \\n {mean}\")\n",
    "        var = ((inputs - mean) ** 2).mean(dim=dims, keepdim=True)\n",
    "        std = (var + self.eps).sqrt()\n",
    "        print(f\"Standard Deviation \\n ({std.size()}): \\n {std}\")\n",
    "        y = (inputs - mean) / std\n",
    "        print(f\"y \\n ({y.size()}) = \\n {y}\")\n",
    "        out = self.gamma * y  + self.beta\n",
    "        print(f\"out \\n ({out.size()}) = \\n {out}\")\n",
    "        return out"
   ]
  },
  {
   "cell_type": "code",
   "execution_count": 13,
   "id": "35faf369",
   "metadata": {},
   "outputs": [
    {
     "name": "stdout",
     "output_type": "stream",
     "text": [
      "input \n",
      " (torch.Size([5, 3, 8])) = \n",
      " tensor([[[-1.3511, -0.4669, -1.2817,  1.3054, -0.5906,  0.6535, -1.2926,\n",
      "          -0.3531],\n",
      "         [-0.6564,  0.7057,  0.2373, -1.3062,  1.2162,  0.3847, -1.6895,\n",
      "          -0.1612],\n",
      "         [ 1.5076,  0.0189,  1.1641, -0.4137, -0.0999, -1.2410,  3.2914,\n",
      "          -0.8798]],\n",
      "\n",
      "        [[ 0.2357, -0.6373, -0.3988,  0.5782, -0.7712,  1.7202, -0.3875,\n",
      "           0.6682],\n",
      "         [-0.8660,  0.5063,  1.0012,  0.1694, -1.3982, -2.0103, -1.5528,\n",
      "           0.4724],\n",
      "         [ 1.0830,  0.2584,  0.0521, -0.7756,  0.0717, -0.6323,  1.3583,\n",
      "          -2.1740]],\n",
      "\n",
      "        [[-0.0580, -1.6516, -0.6851, -0.0530,  0.1656,  0.6189, -0.6057,\n",
      "           1.6657],\n",
      "         [ 0.7941,  0.3811,  0.1423,  0.7261,  1.2150,  1.1154, -0.9907,\n",
      "          -0.5858],\n",
      "         [ 1.7863,  0.3841,  0.3413,  0.2212,  0.4596,  2.1709,  0.6000,\n",
      "           0.3923]],\n",
      "\n",
      "        [[-0.2713, -1.4483,  0.9031, -0.4365, -1.7948,  0.7539,  1.9296,\n",
      "          -1.4880],\n",
      "         [ 0.7107,  0.9716,  0.1785, -0.4155,  0.4621,  0.7868, -0.7395,\n",
      "           0.1081],\n",
      "         [-0.5488, -0.8620,  0.7044, -1.3460,  1.5056,  1.0276, -0.7614,\n",
      "           0.8977]],\n",
      "\n",
      "        [[ 1.3941, -1.1813, -1.1432, -1.6205,  1.7759, -0.9010,  0.5777,\n",
      "          -1.2844],\n",
      "         [-1.7736, -0.6404, -0.2379, -1.1887,  0.2299,  0.4398,  0.1619,\n",
      "           0.1337],\n",
      "         [ 0.1018, -0.8455,  0.8272,  1.6082,  1.0482,  1.1892, -1.1211,\n",
      "           1.8805]]])\n"
     ]
    }
   ],
   "source": [
    "batch_size = 3\n",
    "sentence_length = 5\n",
    "embedding_dim = 8 \n",
    "inputs = torch.randn(sentence_length, batch_size, embedding_dim)\n",
    "\n",
    "print(f\"input \\n ({inputs.size()}) = \\n {inputs}\")"
   ]
  },
  {
   "cell_type": "code",
   "execution_count": 14,
   "id": "9ce798a5",
   "metadata": {},
   "outputs": [],
   "source": [
    "layer_norm = LayerNormalization(inputs.size()[-1:])"
   ]
  },
  {
   "cell_type": "code",
   "execution_count": 15,
   "id": "58cc22bf",
   "metadata": {},
   "outputs": [
    {
     "name": "stdout",
     "output_type": "stream",
     "text": [
      "Mean \n",
      " (torch.Size([5, 3, 1])): \n",
      " tensor([[[-0.4221],\n",
      "         [-0.1587],\n",
      "         [ 0.4184]],\n",
      "\n",
      "        [[ 0.1259],\n",
      "         [-0.4597],\n",
      "         [-0.0948]],\n",
      "\n",
      "        [[-0.0754],\n",
      "         [ 0.3497],\n",
      "         [ 0.7945]],\n",
      "\n",
      "        [[-0.2315],\n",
      "         [ 0.2579],\n",
      "         [ 0.0772]],\n",
      "\n",
      "        [[-0.2978],\n",
      "         [-0.3594],\n",
      "         [ 0.5861]]])\n",
      "Standard Deviation \n",
      " (torch.Size([5, 3, 1])): \n",
      " tensor([[[0.9039],\n",
      "         [0.9352],\n",
      "         [1.3945]],\n",
      "\n",
      "        [[0.7889],\n",
      "         [1.0593],\n",
      "         [1.0457]],\n",
      "\n",
      "        [[0.9158],\n",
      "         [0.7408],\n",
      "         [0.6975]],\n",
      "\n",
      "        [[1.2488],\n",
      "         [0.5605],\n",
      "         [1.0008]],\n",
      "\n",
      "        [[1.2506],\n",
      "         [0.7316],\n",
      "         [1.0340]]])\n",
      "y \n",
      " (torch.Size([5, 3, 8])) = \n",
      " tensor([[[-1.0277, -0.0495, -0.9510,  1.9112, -0.1864,  1.1900, -0.9630,\n",
      "           0.0764],\n",
      "         [-0.5322,  0.9243,  0.4234, -1.2270,  1.4700,  0.5810, -1.6368,\n",
      "          -0.0027],\n",
      "         [ 0.7810, -0.2865,  0.5347, -0.5968, -0.3717, -1.1900,  2.0603,\n",
      "          -0.9310]],\n",
      "\n",
      "        [[ 0.1391, -0.9675, -0.6652,  0.5733, -1.1372,  2.0209, -0.6508,\n",
      "           0.6874],\n",
      "         [-0.3835,  0.9119,  1.3792,  0.5939, -0.8859, -1.4637, -1.0318,\n",
      "           0.8800],\n",
      "         [ 1.1263,  0.3377,  0.1405, -0.6510,  0.1592, -0.5140,  1.3896,\n",
      "          -1.9883]],\n",
      "\n",
      "        [[ 0.0190, -1.7211, -0.6657,  0.0245,  0.2631,  0.7582, -0.5791,\n",
      "           1.9011],\n",
      "         [ 0.6000,  0.0423, -0.2799,  0.5081,  1.1681,  1.0336, -1.8094,\n",
      "          -1.2628],\n",
      "         [ 1.4219, -0.5883, -0.6497, -0.8218, -0.4801,  1.9733, -0.2788,\n",
      "          -0.5765]],\n",
      "\n",
      "        [[-0.0318, -0.9744,  0.9086, -0.1642, -1.2518,  0.7891,  1.7306,\n",
      "          -1.0061],\n",
      "         [ 0.8079,  1.2735, -0.1415, -1.2014,  0.3644,  0.9438, -1.7795,\n",
      "          -0.2672],\n",
      "         [-0.6254, -0.9384,  0.6268, -1.4220,  1.4273,  0.9497, -0.8378,\n",
      "           0.8199]],\n",
      "\n",
      "        [[ 1.3529, -0.7064, -0.6760, -1.0577,  1.6582, -0.4823,  0.7001,\n",
      "          -0.7889],\n",
      "         [-1.9329, -0.3840,  0.1661, -1.1335,  0.8055,  1.0923,  0.7126,\n",
      "           0.6740],\n",
      "         [-0.4683, -1.3844,  0.2332,  0.9884,  0.4470,  0.5833, -1.6510,\n",
      "           1.2518]]])\n",
      "out \n",
      " (torch.Size([5, 3, 8])) = \n",
      " tensor([[[-1.0277, -0.0495, -0.9510,  1.9112, -0.1864,  1.1900, -0.9630,\n",
      "           0.0764],\n",
      "         [-0.5322,  0.9243,  0.4234, -1.2270,  1.4700,  0.5810, -1.6368,\n",
      "          -0.0027],\n",
      "         [ 0.7810, -0.2865,  0.5347, -0.5968, -0.3717, -1.1900,  2.0603,\n",
      "          -0.9310]],\n",
      "\n",
      "        [[ 0.1391, -0.9675, -0.6652,  0.5733, -1.1372,  2.0209, -0.6508,\n",
      "           0.6874],\n",
      "         [-0.3835,  0.9119,  1.3792,  0.5939, -0.8859, -1.4637, -1.0318,\n",
      "           0.8800],\n",
      "         [ 1.1263,  0.3377,  0.1405, -0.6510,  0.1592, -0.5140,  1.3896,\n",
      "          -1.9883]],\n",
      "\n",
      "        [[ 0.0190, -1.7211, -0.6657,  0.0245,  0.2631,  0.7582, -0.5791,\n",
      "           1.9011],\n",
      "         [ 0.6000,  0.0423, -0.2799,  0.5081,  1.1681,  1.0336, -1.8094,\n",
      "          -1.2628],\n",
      "         [ 1.4219, -0.5883, -0.6497, -0.8218, -0.4801,  1.9733, -0.2788,\n",
      "          -0.5765]],\n",
      "\n",
      "        [[-0.0318, -0.9744,  0.9086, -0.1642, -1.2518,  0.7891,  1.7306,\n",
      "          -1.0061],\n",
      "         [ 0.8079,  1.2735, -0.1415, -1.2014,  0.3644,  0.9438, -1.7795,\n",
      "          -0.2672],\n",
      "         [-0.6254, -0.9384,  0.6268, -1.4220,  1.4273,  0.9497, -0.8378,\n",
      "           0.8199]],\n",
      "\n",
      "        [[ 1.3529, -0.7064, -0.6760, -1.0577,  1.6582, -0.4823,  0.7001,\n",
      "          -0.7889],\n",
      "         [-1.9329, -0.3840,  0.1661, -1.1335,  0.8055,  1.0923,  0.7126,\n",
      "           0.6740],\n",
      "         [-0.4683, -1.3844,  0.2332,  0.9884,  0.4470,  0.5833, -1.6510,\n",
      "           1.2518]]], grad_fn=<AddBackward0>)\n"
     ]
    }
   ],
   "source": [
    "out = layer_norm.forward(inputs)"
   ]
  },
  {
   "cell_type": "code",
   "execution_count": 16,
   "id": "7025d5b9",
   "metadata": {},
   "outputs": [
    {
     "data": {
      "text/plain": [
       "(tensor(2.4835e-09, grad_fn=<MeanBackward0>),\n",
       " tensor(1.0215, grad_fn=<StdBackward0>))"
      ]
     },
     "execution_count": 16,
     "metadata": {},
     "output_type": "execute_result"
    }
   ],
   "source": [
    "out[0].mean(), out[0].std()"
   ]
  },
  {
   "cell_type": "code",
   "execution_count": null,
   "id": "efba8711",
   "metadata": {},
   "outputs": [],
   "source": []
  }
 ],
 "metadata": {
  "kernelspec": {
   "display_name": "Python 3 (ipykernel)",
   "language": "python",
   "name": "python3"
  },
  "language_info": {
   "codemirror_mode": {
    "name": "ipython",
    "version": 3
   },
   "file_extension": ".py",
   "mimetype": "text/x-python",
   "name": "python",
   "nbconvert_exporter": "python",
   "pygments_lexer": "ipython3",
   "version": "3.7.16"
  }
 },
 "nbformat": 4,
 "nbformat_minor": 5
}
