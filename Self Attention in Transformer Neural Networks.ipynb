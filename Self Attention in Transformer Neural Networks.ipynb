{
 "cells": [
  {
   "cell_type": "code",
   "execution_count": 1,
   "id": "be67393d",
   "metadata": {},
   "outputs": [],
   "source": [
    "import numpy as np\n",
    "import math"
   ]
  },
  {
   "cell_type": "code",
   "execution_count": 2,
   "id": "2fd3b50a",
   "metadata": {},
   "outputs": [],
   "source": [
    "# L - Length i.e Tarun has 5 Char\n",
    "L, d_k, d_v = 4, 8, 8\n",
    "q = np.random.randn(L, d_k)\n",
    "k = np.random.randn(L, d_k)\n",
    "v = np.random.randn(L, d_v)"
   ]
  },
  {
   "cell_type": "code",
   "execution_count": 11,
   "id": "46acad28",
   "metadata": {},
   "outputs": [
    {
     "name": "stdout",
     "output_type": "stream",
     "text": [
      "(4, 8) (4, 8) (4, 8)\n"
     ]
    }
   ],
   "source": [
    "print(q.shape,k.shape,v.shape)"
   ]
  },
  {
   "cell_type": "code",
   "execution_count": 8,
   "id": "fec439eb",
   "metadata": {},
   "outputs": [
    {
     "name": "stdout",
     "output_type": "stream",
     "text": [
      "q [[-1.46868161 -0.92527241  0.93325244 -0.24670097 -0.97912115  0.03440879\n",
      "   0.00422575 -1.35696244]\n",
      " [-0.82643577  2.0792953  -1.50199646 -1.51169856  0.43840298 -1.27706233\n",
      "  -0.06526329  1.74137974]\n",
      " [-0.32772483 -0.79495567  0.43778303 -0.61373461  2.68386832 -0.51070335\n",
      "  -0.12103809 -0.20937305]\n",
      " [ 1.53227183  1.15381532  0.07229121 -0.03409058  1.39929093 -0.20088247\n",
      "   1.4441639   0.41387737]]\n",
      "\n",
      "\n",
      "k [[-1.07006165  0.41741129  0.58066157  2.81828782 -0.3954185   1.00287525\n",
      "   1.29573473  0.01670122]\n",
      " [ 1.4829161  -0.49853378  1.37847177 -1.25058329 -0.12087623 -0.01708252\n",
      "  -0.14912928  0.03904045]\n",
      " [ 0.09108514 -1.2712991   0.13225173 -1.78843173 -0.84319619  0.401934\n",
      "   0.37202635 -0.87575333]\n",
      " [ 0.59664739  2.19420334 -0.14255928  0.76902345  0.26976998  0.47959014\n",
      "   1.87090092 -1.65504414]]\n",
      "\n",
      "\n",
      "v [[ 9.46521011e-01 -1.61713281e-01  5.50877055e-04 -6.79487547e-01\n",
      "   7.44079389e-01  2.41903399e-01  2.61895363e+00 -5.13317778e-01]\n",
      " [-1.18682638e+00 -8.49863642e-01  2.45513597e+00  8.06234777e-01\n",
      "   1.44633590e+00  4.19740703e-01 -1.16172735e+00  7.84510679e-01]\n",
      " [-1.34467907e+00  1.37083399e+00  2.23000994e+00 -4.45661483e-02\n",
      "  -1.44269941e+00 -6.51913443e-01 -9.37280950e-01 -7.71798049e-02]\n",
      " [-2.50070271e-01 -6.75401899e-01  5.46393559e-01 -1.52978589e+00\n",
      "   8.19753492e-01  5.53272833e-01 -1.01442716e+00  1.21671413e-01]]\n"
     ]
    }
   ],
   "source": [
    "print(\"q\",q)\n",
    "print(\"\\n\")\n",
    "print(\"k\",k)\n",
    "print(\"\\n\")\n",
    "print(\"v\",v)"
   ]
  },
  {
   "cell_type": "markdown",
   "id": "878cb8b5",
   "metadata": {},
   "source": [
    "### Self Attention \n",
    "$ softmax\\bigg(\\frac{Q.K^T}{\\sqrt{d_k}}+M\\bigg)V$"
   ]
  },
  {
   "cell_type": "code",
   "execution_count": 12,
   "id": "95d29bfa",
   "metadata": {},
   "outputs": [
    {
     "data": {
      "text/plain": [
       "array([[ 1.43647306, -0.05751172,  3.63651276, -1.22318017],\n",
       "       [-4.8898623 , -2.39554876, -2.6460075 , -0.37746218],\n",
       "       [-3.19036766,  0.97550615, -0.1936712 , -1.87504671],\n",
       "       [-0.08871011,  1.47438053, -2.34255361,  5.70745688]])"
      ]
     },
     "execution_count": 12,
     "metadata": {},
     "output_type": "execute_result"
    }
   ],
   "source": [
    "np.matmul(q, k.T)"
   ]
  },
  {
   "cell_type": "code",
   "execution_count": 13,
   "id": "ab672dbd",
   "metadata": {},
   "outputs": [
    {
     "data": {
      "text/plain": [
       "(1.1832384721009135, 1.129963243856758, 6.638794087956057)"
      ]
     },
     "execution_count": 13,
     "metadata": {},
     "output_type": "execute_result"
    }
   ],
   "source": [
    "# Why we need sqrt(d_k) in denominator\n",
    "q.var(), k.var(), np.matmul(q, k.T).var()"
   ]
  },
  {
   "cell_type": "code",
   "execution_count": 14,
   "id": "fe701378",
   "metadata": {},
   "outputs": [
    {
     "data": {
      "text/plain": [
       "(1.1832384721009135, 1.129963243856758, 0.829849260994507)"
      ]
     },
     "execution_count": 14,
     "metadata": {},
     "output_type": "execute_result"
    }
   ],
   "source": [
    "scaled = np.matmul(q, k.T) / math.sqrt(d_k)\n",
    "q.var(), k.var(), scaled.var()"
   ]
  },
  {
   "cell_type": "code",
   "execution_count": 15,
   "id": "fd739b6e",
   "metadata": {},
   "outputs": [
    {
     "data": {
      "text/plain": [
       "array([[ 0.50786992, -0.02033346,  1.28570142, -0.4324595 ],\n",
       "       [-1.72882739, -0.84695439, -0.93550492, -0.13345303],\n",
       "       [-1.1279653 ,  0.34489351, -0.06847311, -0.66292912],\n",
       "       [-0.03136376,  0.52127224, -0.82821777,  2.01789073]])"
      ]
     },
     "execution_count": 15,
     "metadata": {},
     "output_type": "execute_result"
    }
   ],
   "source": [
    "scaled"
   ]
  },
  {
   "cell_type": "markdown",
   "id": "6ae259f9",
   "metadata": {},
   "source": [
    "### Masking\n",
    "* This is to ensure words don't get context from words generated in the future.\n",
    "* Not required in the encoders, but required int he decoders"
   ]
  },
  {
   "cell_type": "code",
   "execution_count": 16,
   "id": "a42686f8",
   "metadata": {},
   "outputs": [
    {
     "data": {
      "text/plain": [
       "array([[1., 0., 0., 0.],\n",
       "       [1., 1., 0., 0.],\n",
       "       [1., 1., 1., 0.],\n",
       "       [1., 1., 1., 1.]])"
      ]
     },
     "execution_count": 16,
     "metadata": {},
     "output_type": "execute_result"
    }
   ],
   "source": [
    "mask = np.tril(np.ones( (L, L) ))\n",
    "mask"
   ]
  },
  {
   "cell_type": "code",
   "execution_count": 17,
   "id": "5b89c5a5",
   "metadata": {},
   "outputs": [],
   "source": [
    "mask[mask == 0] = -np.infty\n",
    "mask[mask == 1] = 0"
   ]
  },
  {
   "cell_type": "code",
   "execution_count": 18,
   "id": "76b719bc",
   "metadata": {},
   "outputs": [
    {
     "data": {
      "text/plain": [
       "array([[  0., -inf, -inf, -inf],\n",
       "       [  0.,   0., -inf, -inf],\n",
       "       [  0.,   0.,   0., -inf],\n",
       "       [  0.,   0.,   0.,   0.]])"
      ]
     },
     "execution_count": 18,
     "metadata": {},
     "output_type": "execute_result"
    }
   ],
   "source": [
    "mask"
   ]
  },
  {
   "cell_type": "code",
   "execution_count": 19,
   "id": "2bb5e5d7",
   "metadata": {},
   "outputs": [
    {
     "data": {
      "text/plain": [
       "array([[ 0.50786992,        -inf,        -inf,        -inf],\n",
       "       [-1.72882739, -0.84695439,        -inf,        -inf],\n",
       "       [-1.1279653 ,  0.34489351, -0.06847311,        -inf],\n",
       "       [-0.03136376,  0.52127224, -0.82821777,  2.01789073]])"
      ]
     },
     "execution_count": 19,
     "metadata": {},
     "output_type": "execute_result"
    }
   ],
   "source": [
    "scaled + mask"
   ]
  },
  {
   "cell_type": "code",
   "execution_count": null,
   "id": "d7e8e1ce",
   "metadata": {},
   "outputs": [],
   "source": []
  },
  {
   "cell_type": "markdown",
   "id": "dcff5c87",
   "metadata": {},
   "source": [
    "### Softmax\n",
    "\n",
    "$\\frac{e^{x_i}}{\\sum_j e^x_j}$"
   ]
  },
  {
   "cell_type": "code",
   "execution_count": 21,
   "id": "f3e698ca",
   "metadata": {},
   "outputs": [],
   "source": [
    "def softmax(x):\n",
    "    return (np.exp(x).T / np.sum(np.exp(x), axis=-1)).T"
   ]
  },
  {
   "cell_type": "code",
   "execution_count": 22,
   "id": "18845c7f",
   "metadata": {},
   "outputs": [],
   "source": [
    "attention = softmax(scaled + mask)"
   ]
  },
  {
   "cell_type": "code",
   "execution_count": 23,
   "id": "3acf56c0",
   "metadata": {},
   "outputs": [
    {
     "data": {
      "text/plain": [
       "array([[1.        , 0.        , 0.        , 0.        ],\n",
       "       [0.2927898 , 0.7072102 , 0.        , 0.        ],\n",
       "       [0.12126221, 0.52890775, 0.34983004, 0.        ],\n",
       "       [0.09131849, 0.15869582, 0.04116133, 0.70882436]])"
      ]
     },
     "execution_count": 23,
     "metadata": {},
     "output_type": "execute_result"
    }
   ],
   "source": [
    "attention"
   ]
  },
  {
   "cell_type": "code",
   "execution_count": 24,
   "id": "af5f5166",
   "metadata": {},
   "outputs": [
    {
     "data": {
      "text/plain": [
       "array([[ 9.46521011e-01, -1.61713281e-01,  5.50877055e-04,\n",
       "        -6.79487547e-01,  7.44079389e-01,  2.41903399e-01,\n",
       "         2.61895363e+00, -5.13317778e-01],\n",
       "       [-5.62204034e-01, -6.48380238e-01,  1.73645850e+00,\n",
       "         3.71230441e-01,  1.24072236e+00,  3.67671755e-01,\n",
       "        -5.47825387e-02,  4.04519750e-01],\n",
       "       [-9.83353575e-01,  1.04497228e-02,  2.07873171e+00,\n",
       "         3.28437086e-01,  3.50507400e-01,  2.32789511e-02,\n",
       "        -6.24755527e-01,  3.25687919e-01],\n",
       "       [-3.34514196e-01, -5.71953185e-01,  8.68757358e-01,\n",
       "        -1.02028760e+00,  8.19153481e-01,  4.54040984e-01,\n",
       "        -7.02832800e-01,  1.60689997e-01]])"
      ]
     },
     "execution_count": 24,
     "metadata": {},
     "output_type": "execute_result"
    }
   ],
   "source": [
    "new_v = np.matmul(attention, v)\n",
    "new_v"
   ]
  },
  {
   "cell_type": "code",
   "execution_count": 25,
   "id": "1336e55d",
   "metadata": {},
   "outputs": [
    {
     "data": {
      "text/plain": [
       "array([[ 9.46521011e-01, -1.61713281e-01,  5.50877055e-04,\n",
       "        -6.79487547e-01,  7.44079389e-01,  2.41903399e-01,\n",
       "         2.61895363e+00, -5.13317778e-01],\n",
       "       [-1.18682638e+00, -8.49863642e-01,  2.45513597e+00,\n",
       "         8.06234777e-01,  1.44633590e+00,  4.19740703e-01,\n",
       "        -1.16172735e+00,  7.84510679e-01],\n",
       "       [-1.34467907e+00,  1.37083399e+00,  2.23000994e+00,\n",
       "        -4.45661483e-02, -1.44269941e+00, -6.51913443e-01,\n",
       "        -9.37280950e-01, -7.71798049e-02],\n",
       "       [-2.50070271e-01, -6.75401899e-01,  5.46393559e-01,\n",
       "        -1.52978589e+00,  8.19753492e-01,  5.53272833e-01,\n",
       "        -1.01442716e+00,  1.21671413e-01]])"
      ]
     },
     "execution_count": 25,
     "metadata": {},
     "output_type": "execute_result"
    }
   ],
   "source": [
    "v"
   ]
  },
  {
   "cell_type": "markdown",
   "id": "80c5fd1a",
   "metadata": {},
   "source": [
    "### Function"
   ]
  },
  {
   "cell_type": "code",
   "execution_count": 27,
   "id": "bbcc2c6d",
   "metadata": {},
   "outputs": [],
   "source": [
    "def softmax(x):\n",
    "    return (np.exp(x).T / np.sum(np.exp(x), axis=-1)).T\n",
    "\n",
    "def scaled_dot_product_attention(q, k, v, mask=None):\n",
    "    d_k = q.shape[-1]\n",
    "    scaled = np.matmul(q, k.T) / math.sqrt(d_k)\n",
    "    if mask is not None:\n",
    "        scaled = scaled + mask\n",
    "    attention = softmax(scaled)\n",
    "    out = np.matmul(attention, v)\n",
    "    return out, attention"
   ]
  },
  {
   "cell_type": "code",
   "execution_count": 28,
   "id": "f01d9101",
   "metadata": {},
   "outputs": [
    {
     "name": "stdout",
     "output_type": "stream",
     "text": [
      "Q\n",
      " [[-1.46868161 -0.92527241  0.93325244 -0.24670097 -0.97912115  0.03440879\n",
      "   0.00422575 -1.35696244]\n",
      " [-0.82643577  2.0792953  -1.50199646 -1.51169856  0.43840298 -1.27706233\n",
      "  -0.06526329  1.74137974]\n",
      " [-0.32772483 -0.79495567  0.43778303 -0.61373461  2.68386832 -0.51070335\n",
      "  -0.12103809 -0.20937305]\n",
      " [ 1.53227183  1.15381532  0.07229121 -0.03409058  1.39929093 -0.20088247\n",
      "   1.4441639   0.41387737]]\n",
      "K\n",
      " [[-1.07006165  0.41741129  0.58066157  2.81828782 -0.3954185   1.00287525\n",
      "   1.29573473  0.01670122]\n",
      " [ 1.4829161  -0.49853378  1.37847177 -1.25058329 -0.12087623 -0.01708252\n",
      "  -0.14912928  0.03904045]\n",
      " [ 0.09108514 -1.2712991   0.13225173 -1.78843173 -0.84319619  0.401934\n",
      "   0.37202635 -0.87575333]\n",
      " [ 0.59664739  2.19420334 -0.14255928  0.76902345  0.26976998  0.47959014\n",
      "   1.87090092 -1.65504414]]\n",
      "V\n",
      " [[ 9.46521011e-01 -1.61713281e-01  5.50877055e-04 -6.79487547e-01\n",
      "   7.44079389e-01  2.41903399e-01  2.61895363e+00 -5.13317778e-01]\n",
      " [-1.18682638e+00 -8.49863642e-01  2.45513597e+00  8.06234777e-01\n",
      "   1.44633590e+00  4.19740703e-01 -1.16172735e+00  7.84510679e-01]\n",
      " [-1.34467907e+00  1.37083399e+00  2.23000994e+00 -4.45661483e-02\n",
      "  -1.44269941e+00 -6.51913443e-01 -9.37280950e-01 -7.71798049e-02]\n",
      " [-2.50070271e-01 -6.75401899e-01  5.46393559e-01 -1.52978589e+00\n",
      "   8.19753492e-01  5.53272833e-01 -1.01442716e+00  1.21671413e-01]]\n",
      "New V\n",
      " [[ 9.46521011e-01 -1.61713281e-01  5.50877055e-04 -6.79487547e-01\n",
      "   7.44079389e-01  2.41903399e-01  2.61895363e+00 -5.13317778e-01]\n",
      " [-5.62204034e-01 -6.48380238e-01  1.73645850e+00  3.71230441e-01\n",
      "   1.24072236e+00  3.67671755e-01 -5.47825387e-02  4.04519750e-01]\n",
      " [-9.83353575e-01  1.04497228e-02  2.07873171e+00  3.28437086e-01\n",
      "   3.50507400e-01  2.32789511e-02 -6.24755527e-01  3.25687919e-01]\n",
      " [-3.34514196e-01 -5.71953185e-01  8.68757358e-01 -1.02028760e+00\n",
      "   8.19153481e-01  4.54040984e-01 -7.02832800e-01  1.60689997e-01]]\n",
      "Attention\n",
      " [[1.         0.         0.         0.        ]\n",
      " [0.2927898  0.7072102  0.         0.        ]\n",
      " [0.12126221 0.52890775 0.34983004 0.        ]\n",
      " [0.09131849 0.15869582 0.04116133 0.70882436]]\n"
     ]
    }
   ],
   "source": [
    "values, attention = scaled_dot_product_attention(q, k, v, mask=mask)\n",
    "print(\"Q\\n\", q)\n",
    "print(\"K\\n\", k)\n",
    "print(\"V\\n\", v)\n",
    "print(\"New V\\n\", values)\n",
    "print(\"Attention\\n\", attention)"
   ]
  },
  {
   "cell_type": "code",
   "execution_count": null,
   "id": "bca7ee0e",
   "metadata": {},
   "outputs": [],
   "source": []
  }
 ],
 "metadata": {
  "kernelspec": {
   "display_name": "Python 3 (ipykernel)",
   "language": "python",
   "name": "python3"
  },
  "language_info": {
   "codemirror_mode": {
    "name": "ipython",
    "version": 3
   },
   "file_extension": ".py",
   "mimetype": "text/x-python",
   "name": "python",
   "nbconvert_exporter": "python",
   "pygments_lexer": "ipython3",
   "version": "3.7.16"
  }
 },
 "nbformat": 4,
 "nbformat_minor": 5
}
